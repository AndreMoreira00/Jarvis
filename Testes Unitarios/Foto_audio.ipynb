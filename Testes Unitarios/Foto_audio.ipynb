{
 "cells": [
  {
   "cell_type": "code",
   "execution_count": 6,
   "metadata": {},
   "outputs": [],
   "source": [
    "import  pyaudio\n",
    "import wave\n",
    "import speech_recognition as sr\n",
    "import cv2\n",
    "import numpy as np\n",
    "import time\n",
    "import asyncio\n",
    "from threading import Thread"
   ]
  },
  {
   "cell_type": "code",
   "execution_count": 7,
   "metadata": {},
   "outputs": [],
   "source": [
    "def Audio():\n",
    "  audio = pyaudio.PyAudio()\n",
    "  \n",
    "  stream = audio.open(\n",
    "    input = True,\n",
    "    format = pyaudio.paInt16,\n",
    "    channels = 1,\n",
    "    rate = 44000,\n",
    "    frames_per_buffer = 1024,\n",
    "  )\n",
    "  \n",
    "  frames = []\n",
    "  \n",
    "  timeout = 5\n",
    "  timeout_start = time.time()\n",
    "  \n",
    "  try:\n",
    "    while time.time() < timeout_start + timeout:\n",
    "      bloco = stream.read(1024)\n",
    "      frames.append(bloco)\n",
    "  except KeyboardInterrupt:\n",
    "      pass\n",
    "  \n",
    "  arquivo_final = wave.open(\"gravacao.wav\", \"wb\")\n",
    "  arquivo_final.setnchannels(1)\n",
    "  arquivo_final.setframerate(44000)\n",
    "  arquivo_final.setsampwidth(audio.get_sample_size(pyaudio.paInt16))\n",
    "  arquivo_final.writeframes(b\"\".join(frames))\n",
    "  arquivo_final.close()\n",
    "  \n",
    "  r = sr.Recognizer()\n",
    "\n",
    "  with sr.WavFile(\"gravacao.wav\") as source:              \n",
    "    audio = r.record(source)                        \n",
    "\n",
    "  try:\n",
    "      print(\"Transcription: \" + r.recognize_google(audio, language=\"pt-BR\"))   \n",
    "  except LookupError:         \n",
    "      print(\"Sem Falas!\")"
   ]
  },
  {
   "cell_type": "code",
   "execution_count": 8,
   "metadata": {},
   "outputs": [],
   "source": [
    "def save_foto(frame):\n",
    "    timesr = time.strftime(\"%Y%m%d_%H%M%S\")\n",
    "    cv2.imwrite(f\"Images/{timesr}.jpg\", frame)\n",
    "    time.sleep(0.5)"
   ]
  },
  {
   "cell_type": "code",
   "execution_count": 9,
   "metadata": {},
   "outputs": [],
   "source": [
    "t1 = Thread(target=Audio)\n",
    "t2 = Thread(target=save_foto)"
   ]
  },
  {
   "cell_type": "code",
   "execution_count": 10,
   "metadata": {},
   "outputs": [
    {
     "name": "stderr",
     "output_type": "stream",
     "text": [
      "Exception in thread Thread-15:\n",
      "Traceback (most recent call last):\n",
      "  File \"c:\\Users\\andre\\AppData\\Local\\Programs\\Python\\Python39\\lib\\threading.py\", line 973, in _bootstrap_inner\n",
      "    self.run()\n",
      "  File \"C:\\Users\\andre\\AppData\\Roaming\\Python\\Python39\\site-packages\\ipykernel\\ipkernel.py\", line 766, in run_closure\n"
     ]
    }
   ],
   "source": [
    "t1.start()\n",
    "t2.start()"
   ]
  },
  {
   "cell_type": "code",
   "execution_count": 11,
   "metadata": {},
   "outputs": [
    {
     "name": "stderr",
     "output_type": "stream",
     "text": [
      "    _threading_Thread_run(self)\n",
      "  File \"c:\\Users\\andre\\AppData\\Local\\Programs\\Python\\Python39\\lib\\threading.py\", line 910, in run\n",
      "    self._target(*self._args, **self._kwargs)\n",
      "TypeError: save_foto() missing 1 required positional argument: 'frame'\n",
      "Exception in thread Thread-14:\n",
      "Traceback (most recent call last):\n",
      "  File \"c:\\Users\\andre\\AppData\\Local\\Programs\\Python\\Python39\\lib\\threading.py\", line 973, in _bootstrap_inner\n",
      "    self.run()\n",
      "  File \"C:\\Users\\andre\\AppData\\Roaming\\Python\\Python39\\site-packages\\ipykernel\\ipkernel.py\", line 766, in run_closure\n",
      "    _threading_Thread_run(self)\n",
      "  File \"c:\\Users\\andre\\AppData\\Local\\Programs\\Python\\Python39\\lib\\threading.py\", line 910, in run\n",
      "    self._target(*self._args, **self._kwargs)\n",
      "  File \"C:\\Users\\andre\\AppData\\Local\\Temp\\ipykernel_4928\\2255092379.py\", line 37, in Audio\n",
      "  File \"c:\\Users\\andre\\AppData\\Local\\Programs\\Python\\Python39\\lib\\site-packages\\speech_recognition\\recognizers\\google.py\", line 263, in recognize_legacy\n",
      "    return output_parser.parse(response_text)\n",
      "  File \"c:\\Users\\andre\\AppData\\Local\\Programs\\Python\\Python39\\lib\\site-packages\\speech_recognition\\recognizers\\google.py\", line 134, in parse\n",
      "    actual_result = self.convert_to_result(response_text)\n",
      "  File \"c:\\Users\\andre\\AppData\\Local\\Programs\\Python\\Python39\\lib\\site-packages\\speech_recognition\\recognizers\\google.py\", line 183, in convert_to_result\n",
      "    raise UnknownValueError()\n",
      "speech_recognition.exceptions.UnknownValueError\n"
     ]
    }
   ],
   "source": [
    "t1.join()\n",
    "t2.join()"
   ]
  }
 ],
 "metadata": {
  "kernelspec": {
   "display_name": "Python 3",
   "language": "python",
   "name": "python3"
  },
  "language_info": {
   "codemirror_mode": {
    "name": "ipython",
    "version": 3
   },
   "file_extension": ".py",
   "mimetype": "text/x-python",
   "name": "python",
   "nbconvert_exporter": "python",
   "pygments_lexer": "ipython3",
   "version": "3.9.7"
  }
 },
 "nbformat": 4,
 "nbformat_minor": 2
}
